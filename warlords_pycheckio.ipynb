{
 "cells": [
  {
   "cell_type": "code",
   "execution_count": 2,
   "metadata": {},
   "outputs": [],
   "source": [
    "\"\"\"\n",
    "\n",
    "In this mission you should add a new class Warlord(), which should be the subclass of the Warrior class and have\n",
    "the next characteristics:\n",
    "health = 100\n",
    "attack = 4\n",
    "defense = 2\n",
    "\n",
    "Also, when the Warlord is included in any of the armies, that particular army gets the new move_units() method which\n",
    "allows to rearrange the units of that army for the better battle result. The rearrangement is done not only before\n",
    "the battle, but during the battle too, each time the allied units die. The rules for the rearrangement are as follow:\n",
    "\n",
    "    If there are Lancers in the army, they should be placed in front of everyone else.\n",
    "    If there is a Healer in the army, he should be placed right after the first soldier to heal him during the fight.\n",
    "    If the number of Healers is > 1, all of them should be placed right behind the first Healer.\n",
    "    If there are no more Lancers in the army, but there are other soldiers who can deal damage,\n",
    "    they also should be placed in first position, and the Healer should stay in the 2nd row (if army still has Healers).\n",
    "    Warlord should always stay way in the back to look over the battle and rearrange the soldiers when it's needed.\n",
    "    Every army can have no more than 1 Warlord.\n",
    "    If the army doesn’t have a Warlord, it can’t use the move_units() method.\n",
    "\"\"\"\n",
    "\n",
    "\n",
    "class Warrior:\n",
    "    def __init__(self, health=50, attack=5):\n",
    "        self.health = health\n",
    "        self.attack = attack\n",
    "\n",
    "    @property\n",
    "    def is_alive(self):\n",
    "        return self.health > 0\n",
    "\n",
    "    def hit(self, other):\n",
    "        other.loss(self.attack)\n",
    "\n",
    "    def damage(self, attack):\n",
    "        return attack\n",
    "\n",
    "    def loss(self, attack):\n",
    "        self.health -= self.damage(attack)\n",
    "\n",
    "    def equip_weapon(self, weapon):\n",
    "        self.health += weapon.health\n",
    "        self.attack += weapon.attack\n",
    "        try:\n",
    "            self.defense += weapon.defense\n",
    "        except AttributeError:\n",
    "            pass\n",
    "        try:\n",
    "            self.vampirism += weapon.vampirism\n",
    "            self.vampirism = int(self.vampirism)\n",
    "        except AttributeError:\n",
    "            pass\n",
    "        try:\n",
    "            self.heal_power += weapon.heal_power\n",
    "        except AttributeError:\n",
    "            pass\n",
    "\n",
    "\n",
    "class Knight(Warrior):\n",
    "    def __init__(self):\n",
    "        super().__init__(attack=7)\n",
    "\n",
    "\n",
    "class Defender(Warrior):\n",
    "    def __init__(self):\n",
    "        super().__init__(health=60, attack=3)\n",
    "        self.defense = 2\n",
    "\n",
    "    def damage(self, attack):\n",
    "        return max(0, attack - self.defense)\n",
    "\n",
    "\n",
    "class Vampire(Warrior):\n",
    "    def __init__(self):\n",
    "        super().__init__(health=40, attack=4)\n",
    "        self.vampirism = 50\n",
    "\n",
    "    def hit(self, other):\n",
    "        super().hit(other)\n",
    "        self.health += other.damage(self.attack) * self.vampirism // 100\n",
    "\n",
    "\n",
    "class Healer(Warrior):\n",
    "    def __init__(self, heal_power=2):\n",
    "        super().__init__(health=60, attack=0)\n",
    "        self.heal_power = heal_power\n",
    "\n",
    "    def heal(self, other):\n",
    "        other.health += self.heal_power\n",
    "        if other.health > type(other)().health:\n",
    "            other.health = type(other)().health\n",
    "\n",
    "\n",
    "class Lancer(Warrior):\n",
    "    def __init__(self):\n",
    "        super().__init__(attack=6)\n",
    "\n",
    "\n",
    "class Warlord(Warrior):\n",
    "    def __init__(self):\n",
    "        super().__init__(health=100, attack=4)\n",
    "        self.defense = 2\n",
    "\n",
    "    def damage(self, attack):\n",
    "        return max(0, attack - self.defense)\n",
    "\n",
    "\n",
    "def fight(unit_1, unit_2):\n",
    "    while 1:\n",
    "        unit_1.hit(unit_2)\n",
    "        if unit_2.health <= 0:\n",
    "            return True\n",
    "        unit_2.hit(unit_1)\n",
    "        if unit_1.health <= 0:\n",
    "            return False\n",
    "\n",
    "\n",
    "class Army:\n",
    "    def __init__(self):\n",
    "        self.units = []\n",
    "\n",
    "    def add_units(self, unit_class, count):\n",
    "        for _ in range(count):\n",
    "            self.units.append(unit_class())\n",
    "\n",
    "    def move_units(self):\n",
    "        warlord = [w for w in self.units if isinstance(w, Warlord) and w.is_alive is True]\n",
    "        if warlord:\n",
    "            lancers = [l for l in self.units if isinstance(l, Lancer) and l.is_alive is True]\n",
    "            healers = [h for h in self.units if isinstance(h, Healer) and h.is_alive is True]\n",
    "            others = [o for o in self.units if o not in lancers and\n",
    "                      o not in healers\n",
    "                      and o not in warlord\n",
    "                      and o.is_alive is True]\n",
    "            new = list()\n",
    "            if lancers:\n",
    "                new.append(lancers.pop(0))\n",
    "            elif others:\n",
    "                new.append(others.pop(0))\n",
    "            if healers:\n",
    "                new += healers\n",
    "            if lancers:\n",
    "                new += lancers\n",
    "            if others:\n",
    "                new += others\n",
    "            new.append(warlord.pop(0))\n",
    "            self.units = new\n",
    "        else:\n",
    "            return\n",
    "\n",
    "    @property\n",
    "    def first_alive_unit(self):\n",
    "        for unit in self.units:\n",
    "            if unit.is_alive:\n",
    "                return unit\n",
    "\n",
    "    def alive_units(self):\n",
    "        return [u for u in self.units if u.is_alive]\n",
    "\n",
    "    def next_unit(self, unit):\n",
    "        i = self.units.index(unit)\n",
    "        if i + 1 < len(self.units):\n",
    "            return self.units[i + 1]\n",
    "\n",
    "    @property\n",
    "    def is_alive(self):\n",
    "        return self.first_alive_unit is not None\n",
    "\n",
    "\n",
    "class Weapon:\n",
    "    def __init__(self, health=0, attack=0, defense=0, vampirism=0, heal_power=0):\n",
    "        self.health = health\n",
    "        self.attack = attack\n",
    "        self.defense = defense\n",
    "        self.vampirism = vampirism\n",
    "        self.heal_power = heal_power\n",
    "\n",
    "\n",
    "class Sword(Weapon):\n",
    "    def __init__(self):\n",
    "        super().__init__(health=5, attack=2)\n",
    "\n",
    "\n",
    "class Shield(Weapon):\n",
    "    def __init__(self):\n",
    "        super().__init__(health=20, attack=-1, defense=2)\n",
    "\n",
    "\n",
    "class GreatAxe(Weapon):\n",
    "    def __init__(self):\n",
    "        super().__init__(health=-15, attack=5, defense=-2, vampirism=10)\n",
    "\n",
    "\n",
    "class Katana(Weapon):\n",
    "    def __init__(self):\n",
    "        super().__init__(health=-20, attack=6, defense=-5, vampirism=50)\n",
    "\n",
    "\n",
    "class MagicWand(Weapon):\n",
    "    def __init__(self):\n",
    "        super().__init__(health=30, attack=3, heal_power=3)\n",
    "\n",
    "\n",
    "class Battle:\n",
    "    @staticmethod\n",
    "    def hit(unit_1, unit_2, army_2, army_1):\n",
    "        unit_4 = army_1.next_unit(unit_1)\n",
    "        unit_3 = army_2.next_unit(unit_2)\n",
    "        unit_1.hit(unit_2)\n",
    "        if isinstance(unit_1, Lancer):\n",
    "            if unit_3:\n",
    "                unit_3.loss(unit_1.attack // 2)\n",
    "        if unit_4:\n",
    "            if isinstance(unit_4, Healer):\n",
    "                unit_4.heal(unit_1)\n",
    "\n",
    "    @classmethod\n",
    "    def fight(cls, army_1, army_2):\n",
    "        while army_1.is_alive and army_2.is_alive:\n",
    "            army_1.move_units()\n",
    "            army_2.move_units()\n",
    "            unit_1 = army_1.first_alive_unit\n",
    "            unit_2 = army_2.first_alive_unit\n",
    "            while 1:\n",
    "                cls.hit(unit_1, unit_2, army_2, army_1)\n",
    "                if unit_2.health <= 0:\n",
    "                    break\n",
    "                cls.hit(unit_2, unit_1, army_1, army_2)\n",
    "                if unit_1.health <= 0:\n",
    "                    break\n",
    "        return army_1.is_alive\n",
    "\n",
    "    @classmethod\n",
    "    def straight_fight(cls, army_1, army_2):\n",
    "        while army_1.is_alive and army_2.is_alive:\n",
    "            duels = list(zip(army_1.alive_units(), army_2.alive_units()))\n",
    "            if not duels:\n",
    "                break\n",
    "            for duel in duels:\n",
    "                fight(duel[0], duel[1])\n",
    "        return army_1.is_alive"
   ]
  },
  {
   "cell_type": "code",
   "execution_count": 12,
   "metadata": {
    "pycharm": {
     "name": "#%%\n"
    }
   },
   "outputs": [],
   "source": [
    "tor = Warlord()\n",
    "potter = Knight()"
   ]
  },
  {
   "cell_type": "code",
   "execution_count": 13,
   "metadata": {},
   "outputs": [
    {
     "data": {
      "text/plain": [
       "<__main__.Warlord at 0x7f75045dd8b0>"
      ]
     },
     "execution_count": 13,
     "metadata": {},
     "output_type": "execute_result"
    }
   ],
   "source": [
    "tor"
   ]
  },
  {
   "cell_type": "code",
   "execution_count": 14,
   "metadata": {},
   "outputs": [
    {
     "data": {
      "text/plain": [
       "<__main__.Knight at 0x7f75045dd670>"
      ]
     },
     "execution_count": 14,
     "metadata": {},
     "output_type": "execute_result"
    }
   ],
   "source": [
    "potter"
   ]
  },
  {
   "cell_type": "code",
   "execution_count": 15,
   "metadata": {
    "pycharm": {
     "name": "#%%\n"
    }
   },
   "outputs": [
    {
     "data": {
      "text/plain": [
       "True"
      ]
     },
     "execution_count": 15,
     "metadata": {},
     "output_type": "execute_result"
    }
   ],
   "source": [
    "fight(tor, potter)"
   ]
  },
  {
   "cell_type": "code",
   "execution_count": 16,
   "metadata": {},
   "outputs": [
    {
     "data": {
      "text/plain": [
       "False"
      ]
     },
     "execution_count": 16,
     "metadata": {},
     "output_type": "execute_result"
    }
   ],
   "source": [
    "fight(potter, tor)"
   ]
  },
  {
   "cell_type": "code",
   "execution_count": 21,
   "metadata": {
    "pycharm": {
     "name": "#%%\n"
    }
   },
   "outputs": [],
   "source": [
    "tor = Warlord()\n",
    "potter = Knight()\n",
    "potter.equip_weapon(Katana())\n",
    "potter.equip_weapon(MagicWand())\n",
    "tor.equip_weapon(Shield())"
   ]
  },
  {
   "cell_type": "code",
   "execution_count": 22,
   "metadata": {
    "pycharm": {
     "name": "#%%\n"
    }
   },
   "outputs": [
    {
     "data": {
      "text/plain": [
       "False"
      ]
     },
     "execution_count": 22,
     "metadata": {},
     "output_type": "execute_result"
    }
   ],
   "source": [
    "fight(tor, potter)"
   ]
  },
  {
   "cell_type": "code",
   "execution_count": 23,
   "metadata": {
    "pycharm": {
     "name": "#%%\n"
    }
   },
   "outputs": [],
   "source": [
    "army_1 = Army()\n",
    "army_2 = Army()"
   ]
  },
  {
   "cell_type": "code",
   "execution_count": 24,
   "metadata": {},
   "outputs": [
    {
     "data": {
      "text/plain": [
       "<__main__.Army at 0x7f75045dd850>"
      ]
     },
     "execution_count": 24,
     "metadata": {},
     "output_type": "execute_result"
    }
   ],
   "source": [
    "army_1"
   ]
  },
  {
   "cell_type": "code",
   "execution_count": null,
   "outputs": [],
   "source": [
    "army_1.add_units(Warrior, 2)\n",
    "army_1.add_units(Lancer, 2)\n",
    "army_1.add_units(Defender, 1)\n",
    "army_1.add_units(Warlord, 1)\n",
    "army_2.add_units(Warrior, 3)\n",
    "army_2.add_units(Vampire, 1)\n",
    "army_2.add_units(Healer, 1)\n",
    "army_2.add_units(Knight, 1)\n",
    "army_2.add_units(Lancer, 3)\n",
    "army_1.move_units()\n",
    "army_2.move_units()\n",
    "battle = Battle()\n",
    "battle.fight(army_1, army_2)\n"
   ],
   "metadata": {
    "collapsed": false,
    "pycharm": {
     "name": "#%%\n"
    }
   }
  },
  {
   "cell_type": "code",
   "execution_count": 27,
   "metadata": {
    "pycharm": {
     "name": "#%%\n"
    }
   },
   "outputs": [
    {
     "data": {
      "text/plain": [
       "False"
      ]
     },
     "execution_count": 27,
     "metadata": {},
     "output_type": "execute_result"
    }
   ],
   "source": [
    "army_1.add_units(Warrior, 2)\n",
    "army_1.add_units(Lancer, 2)\n",
    "army_1.add_units(Defender, 1)\n",
    "army_1.add_units(Warlord, 1)\n",
    "army_2.add_units(Warrior, 3)\n",
    "army_2.add_units(Vampire, 1)\n",
    "army_2.add_units(Healer, 1)\n",
    "army_2.add_units(Knight, 1)\n",
    "army_2.add_units(Lancer, 3)\n",
    "army_1.move_units()\n",
    "army_2.move_units()\n",
    "battle = Battle()\n",
    "battle.fight(army_1, army_2)\n"
   ]
  }
 ],
 "metadata": {
  "kernelspec": {
   "display_name": "Python 3",
   "language": "python",
   "name": "python3"
  },
  "language_info": {
   "codemirror_mode": {
    "name": "ipython",
    "version": 3
   },
   "file_extension": ".py",
   "mimetype": "text/x-python",
   "name": "python",
   "nbconvert_exporter": "python",
   "pygments_lexer": "ipython3",
   "version": "3.8.3"
  }
 },
 "nbformat": 4,
 "nbformat_minor": 1
}