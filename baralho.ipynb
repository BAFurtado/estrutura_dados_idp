{
 "cells": [
  {
   "cell_type": "code",
   "execution_count": 3,
   "metadata": {},
   "outputs": [],
   "source": [
    "\"\"\" Adaptado a partir de\n",
    "Think Python, 2nd Edition by Allen Downey http://thinkpython2.com\n",
    "Copyright 2015 Allen Downey\n",
    "License: http://creativecommons.org/licenses/by/4.0/\n",
    "\"\"\"\n",
    "\n",
    "import random\n",
    "\n",
    "\n",
    "class Carta:\n",
    "    \"\"\"Representa uma carta padrão.\n",
    "    Atributos:\n",
    "      naipe: integer 0-3\n",
    "      rank: integer 1-13\n",
    "    \"\"\"\n",
    "\n",
    "    naipe_names = [\"Paus\", \"Ouros\", \"Copas\", \"Espadas\"]\n",
    "    rank_names = [None, \"As\", \"2\", \"3\", \"4\", \"5\", \"6\", \"7\",\n",
    "                  \"8\", \"9\", \"10\", \"Valete\", \"Rainha\", \"Rei\"]\n",
    "\n",
    "    def __init__(self, naipe=0, rank=2):\n",
    "        self.naipe = naipe\n",
    "        self.rank = rank\n",
    "\n",
    "    def __str__(self):\n",
    "        \"\"\"Retorna um texto compreensível.\"\"\"\n",
    "        return '{} de {}'.format(Carta.rank_names[self.rank],\n",
    "                                 Carta.naipe_names[self.naipe])\n",
    "\n",
    "    def __eq__(self, other):\n",
    "        # Eu estou informando para o objeto, para a classe, como fazer comparação dessas coisas\n",
    "        \"\"\"Checa se a própria carta e a outra possuem o mesmo naipe e mesmo rank.\n",
    "\n",
    "        returns: boolean\n",
    "        \"\"\"\n",
    "        return self.naipe == other.naipe and self.rank == other.rank\n",
    "\n",
    "    def __lt__(self, other):\n",
    "        # lt = larger than = maior que\n",
    "        \"\"\"Compara esta carta com outra, primeiro o naipe depois o rank.\n",
    "\n",
    "        returns: boolean\n",
    "        \"\"\"\n",
    "        t1 = self.naipe, self.rank\n",
    "        t2 = other.naipe, other.rank\n",
    "        return t1 < t2\n",
    "\n",
    "\n",
    "class Baralho:\n",
    "    \"\"\"Representa um baralho de cartas.\n",
    "\n",
    "    Atributos:\n",
    "      cartas: lista de objetos do tipo Carta.\n",
    "    \"\"\"\n",
    "\n",
    "    def __init__(self):\n",
    "        \"\"\"Inicializa o Baralho com 52 cartas.\n",
    "        \"\"\"\n",
    "        self.cartas = []\n",
    "        for naipe in range(4):\n",
    "            for rank in range(1, 14):\n",
    "                carta = Carta(naipe, rank)\n",
    "                self.cartas.append(carta)\n",
    "\n",
    "    def __str__(self):\n",
    "        \"\"\"Returna a representação do Baralho.\n",
    "        \"\"\"\n",
    "        res = []\n",
    "        for carta in self.cartas:\n",
    "            res.append(str(carta))\n",
    "        return '\\n'.join(res)\n",
    "\n",
    "    def add_carta(self, carta):\n",
    "        \"\"\"Adiciona a carta ao Baralho.\n",
    "\n",
    "        carta: Carta\n",
    "        \"\"\"\n",
    "        self.cartas.append(carta)\n",
    "\n",
    "    def remove_carta(self, carta):\n",
    "        \"\"\"Remove a carta do Baralho.\n",
    "\n",
    "        carta: Carta\n",
    "        \"\"\"\n",
    "        self.cartas.remove(carta)\n",
    "\n",
    "    def pop_carta(self, i=-1):\n",
    "        \"\"\"Removes and returns a carta from the deck.\n",
    "\n",
    "        i: index of the carta to pop; by default, pops the last carta.\n",
    "        \"\"\"\n",
    "        return self.cartas.pop(i)\n",
    "\n",
    "    def shuffle(self):\n",
    "        \"\"\"Shuffles the cartas in this deck.\"\"\"\n",
    "        random.shuffle(self.cartas)\n",
    "\n",
    "    def sort(self):\n",
    "        \"\"\"Sorts the cartas in ascending order.\"\"\"\n",
    "        self.cartas.sort()\n",
    "\n",
    "    def move_cartas(self, hand, num):\n",
    "        \"\"\"Moves the given number of cartas from the deck into the Mao.\n",
    "\n",
    "        hand: destination Mao object\n",
    "        num: integer number of cartas to move\n",
    "        \"\"\"\n",
    "        for i in range(num):\n",
    "            hand.add_carta(self.pop_carta())\n",
    "\n",
    "\n",
    "class Mao(Baralho):\n",
    "    \"\"\"Represents a hand of playing cartas.\"\"\"\n",
    "\n",
    "    def __init__(self, label=''):\n",
    "        self.cartas = []\n",
    "        self.label = label"
   ]
  },
  {
   "cell_type": "code",
   "execution_count": 4,
   "metadata": {
    "pycharm": {
     "name": "#%%\n"
    }
   },
   "outputs": [],
   "source": [
    "deck = Baralho()\n",
    "deck.shuffle()"
   ]
  },
  {
   "cell_type": "code",
   "execution_count": 5,
   "metadata": {
    "pycharm": {
     "name": "#%%\n"
    }
   },
   "outputs": [
    {
     "data": {
      "text/plain": [
       "<__main__.Baralho at 0x7f0aa820c520>"
      ]
     },
     "execution_count": 5,
     "metadata": {},
     "output_type": "execute_result"
    }
   ],
   "source": [
    "deck"
   ]
  },
  {
   "cell_type": "code",
   "execution_count": 6,
   "metadata": {
    "pycharm": {
     "name": "#%%\n"
    }
   },
   "outputs": [
    {
     "name": "stdout",
     "output_type": "stream",
     "text": [
      "5 de Ouros\n",
      "2 de Paus\n",
      "10 de Paus\n",
      "7 de Ouros\n",
      "Valete de Paus\n",
      "Valete de Espadas\n",
      "3 de Ouros\n",
      "4 de Espadas\n",
      "3 de Copas\n",
      "As de Copas\n",
      "As de Paus\n",
      "Valete de Ouros\n",
      "9 de Copas\n",
      "Rei de Paus\n",
      "2 de Espadas\n",
      "6 de Ouros\n",
      "2 de Copas\n",
      "4 de Ouros\n",
      "8 de Copas\n",
      "7 de Paus\n",
      "7 de Copas\n",
      "Rainha de Paus\n",
      "3 de Paus\n",
      "Rei de Copas\n",
      "9 de Ouros\n",
      "8 de Espadas\n",
      "6 de Paus\n",
      "7 de Espadas\n",
      "8 de Paus\n",
      "Rei de Espadas\n",
      "5 de Espadas\n",
      "9 de Espadas\n",
      "10 de Ouros\n",
      "Rei de Ouros\n",
      "6 de Copas\n",
      "As de Espadas\n",
      "3 de Espadas\n",
      "Valete de Copas\n",
      "10 de Copas\n",
      "5 de Paus\n",
      "2 de Ouros\n",
      "6 de Espadas\n",
      "Rainha de Ouros\n",
      "As de Ouros\n",
      "9 de Paus\n",
      "Rainha de Copas\n",
      "8 de Ouros\n",
      "Rainha de Espadas\n",
      "10 de Espadas\n",
      "5 de Copas\n",
      "4 de Paus\n",
      "4 de Copas\n"
     ]
    }
   ],
   "source": [
    "print(deck)"
   ]
  },
  {
   "cell_type": "code",
   "execution_count": 7,
   "metadata": {
    "pycharm": {
     "name": "#%%\n"
    }
   },
   "outputs": [],
   "source": [
    "claudio = Mao('Claudio')\n",
    "bernardo = Mao('Bernardo')\n",
    "\n",
    "deck.move_cartas(claudio, 3)\n",
    "deck.move_cartas(bernardo, 3)"
   ]
  },
  {
   "cell_type": "code",
   "execution_count": 8,
   "metadata": {
    "pycharm": {
     "name": "#%%\n"
    }
   },
   "outputs": [
    {
     "name": "stdout",
     "output_type": "stream",
     "text": [
      "4 de Copas\n",
      "4 de Paus\n",
      "5 de Copas\n"
     ]
    }
   ],
   "source": [
    "print(claudio)"
   ]
  },
  {
   "cell_type": "code",
   "execution_count": 9,
   "metadata": {
    "pycharm": {
     "name": "#%%\n"
    }
   },
   "outputs": [
    {
     "name": "stdout",
     "output_type": "stream",
     "text": [
      "10 de Espadas\n",
      "Rainha de Espadas\n",
      "8 de Ouros\n"
     ]
    }
   ],
   "source": [
    "print(bernardo)"
   ]
  }
 ],
 "metadata": {
  "kernelspec": {
   "display_name": "Python 3",
   "language": "python",
   "name": "python3"
  },
  "language_info": {
   "codemirror_mode": {
    "name": "ipython",
    "version": 3
   },
   "file_extension": ".py",
   "mimetype": "text/x-python",
   "name": "python",
   "nbconvert_exporter": "python",
   "pygments_lexer": "ipython3",
   "version": "3.8.3"
  }
 },
 "nbformat": 4,
 "nbformat_minor": 1
}